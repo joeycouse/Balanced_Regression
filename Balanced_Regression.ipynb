{
 "cells": [
  {
   "cell_type": "markdown",
   "metadata": {},
   "source": [
    "# Machine Learning Final Project"
   ]
  },
  {
   "cell_type": "markdown",
   "metadata": {},
   "source": [
    "Joey Couse and Abraham Eaton <br>\n",
    "11-November-2019 <br>"
   ]
  },
  {
   "cell_type": "code",
   "execution_count": 1,
   "metadata": {},
   "outputs": [],
   "source": [
    "using JuMP, Gurobi, Statistics, DataFrames, LinearAlgebra, StatsBase, CSV, Random"
   ]
  },
  {
   "cell_type": "code",
   "execution_count": 2,
   "metadata": {},
   "outputs": [],
   "source": [
    "Data=CSV.read(\"housing.csv\",header=true);\n",
    "Data=convert(Matrix,Data);\n",
    "Data=Data[shuffle(1:end),:];"
   ]
  },
  {
   "cell_type": "code",
   "execution_count": 36,
   "metadata": {
    "scrolled": false
   },
   "outputs": [
    {
     "data": {
      "text/plain": [
       "506×12 Array{Float64,2}:\n",
       "  0.09604  40.0   6.41  0.447  6.854  …   4.0  254.0  17.6  396.9    2.98\n",
       "  0.11432   0.0   8.56  0.52   6.781      5.0  384.0  20.9  395.58   7.67\n",
       "  0.04544   0.0   3.24  0.46   6.144      4.0  430.0  16.9  368.57   9.09\n",
       "  0.04011  80.0   1.52  0.404  7.287      2.0  329.0  12.6  396.9    4.08\n",
       "  0.55007  20.0   3.97  0.647  7.206      5.0  264.0  13.0  387.89   8.1 \n",
       "  0.07896   0.0  12.83  0.437  6.273  …   5.0  398.0  18.7  394.92   6.78\n",
       "  0.52693   0.0   6.2   0.504  8.725      8.0  307.0  17.4  382.0    4.63\n",
       " 18.0846    0.0  18.1   0.679  6.434     24.0  666.0  20.2   27.25  29.05\n",
       " 23.6482    0.0  18.1   0.671  6.38      24.0  666.0  20.2  396.9   23.69\n",
       "  0.04666  80.0   1.52  0.404  7.107      2.0  329.0  12.6  354.31   8.61\n",
       " 13.6781    0.0  18.1   0.74   5.935  …  24.0  666.0  20.2   68.95  34.02\n",
       "  0.09378  12.5   7.87  0.524  5.889      5.0  311.0  15.2  390.5   15.71\n",
       "  4.75237   0.0  18.1   0.713  6.525     24.0  666.0  20.2   50.92  18.13\n",
       "  ⋮                                   ⋱                       ⋮          \n",
       "  0.57529   0.0   6.2   0.507  8.337      8.0  307.0  17.4  385.91   2.47\n",
       "  3.47428   0.0  18.1   0.718  8.78   …  24.0  666.0  20.2  354.55   5.29\n",
       "  4.03841   0.0  18.1   0.532  6.229     24.0  666.0  20.2  395.33  12.87\n",
       "  2.63548   0.0   9.9   0.544  4.973      4.0  304.0  18.4  350.45  12.64\n",
       "  0.14932  25.0   5.13  0.453  5.741      8.0  284.0  19.7  395.11  13.15\n",
       "  0.07875  45.0   3.44  0.437  6.782      5.0  398.0  15.2  393.87   6.68\n",
       "  0.08244  30.0   4.93  0.428  6.481  …   6.0  300.0  16.6  379.41   6.36\n",
       "  0.15876   0.0  10.81  0.413  5.961      4.0  305.0  19.2  376.94   9.88\n",
       "  0.04932  33.0   2.18  0.472  6.849      7.0  222.0  18.4  396.9    7.53\n",
       "  0.02731   0.0   7.07  0.469  6.421      2.0  242.0  17.8  396.9    9.14\n",
       "  0.08873  21.0   5.64  0.439  5.963      4.0  243.0  16.8  395.56  13.45\n",
       " 17.8667    0.0  18.1   0.671  6.223  …  24.0  666.0  20.2  393.74  21.78"
      ]
     },
     "execution_count": 36,
     "metadata": {},
     "output_type": "execute_result"
    }
   ],
   "source": [
    "selected=findall(x-> x>=0.2 ,abs.(cor(Data)[1:(end-1),end]))\n",
    "Data[:,selected]"
   ]
  },
  {
   "cell_type": "code",
   "execution_count": 37,
   "metadata": {},
   "outputs": [
    {
     "data": {
      "text/plain": [
       "12-element Array{Int64,1}:\n",
       "  1\n",
       "  2\n",
       "  3\n",
       "  5\n",
       "  6\n",
       "  7\n",
       "  8\n",
       "  9\n",
       " 10\n",
       " 11\n",
       " 12\n",
       " 13"
      ]
     },
     "execution_count": 37,
     "metadata": {},
     "output_type": "execute_result"
    }
   ],
   "source": [
    "selected"
   ]
  },
  {
   "cell_type": "code",
   "execution_count": null,
   "metadata": {},
   "outputs": [],
   "source": [
    "n=size(Data,1);\n",
    "print(\"Number of observations: \")\n",
    "println(n);\n",
    "m=size(Data,2);\n",
    "println();\n",
    "\n",
    "X=Data[:,1:(m-1)];\n",
    "Y=Data[:,m];\n",
    "test_X=Test_Data[:,1:(m-1)];\n",
    "test_Y=Test_Data[:,m];\n",
    "\n",
    "\n",
    "m=m-1;\n",
    "print(\"Number of Features: \")\n",
    "println(m);\n",
    "println();\n",
    "print(\"Percent of data in validation set: \")\n",
    "ρ=0.25;\n",
    "println(ρ);"
   ]
  },
  {
   "cell_type": "code",
   "execution_count": 8,
   "metadata": {},
   "outputs": [],
   "source": [
    "\n",
    "\n",
    "Balanced = Model(solver=GurobiSolver(TimeLimit=90));\n",
    "\n",
    "@variable(Balanced, z[1:n], Bin);\n",
    "@constraint(Balanced, sum(z[:])==floor(ρ*n));\n",
    "\n",
    "@objective(Balanced, Min, sum(1/floor(ρ*n)*sum(z[i]*X[i,j] for i = 1:n) - \n",
    "    1/ceil((1-ρ)*n)*sum((1-z[i])*X[i,j] for i = 1:n) for j = 1:m));\n",
    "\n",
    "solve(Balanced);"
   ]
  },
  {
   "cell_type": "code",
   "execution_count": 48,
   "metadata": {},
   "outputs": [],
   "source": [
    "test_obs_count=round(Int,0.1*size(Data,1));\n",
    "Test_Data = Data[1:test_obs_count,:];\n",
    "Data=Data[(test_obs_count+1):end,:];"
   ]
  },
  {
   "cell_type": "code",
   "execution_count": 35,
   "metadata": {},
   "outputs": [
    {
     "data": {
      "text/plain": [
       "113.0"
      ]
     },
     "execution_count": 35,
     "metadata": {},
     "output_type": "execute_result"
    }
   ],
   "source": [
    "sum(getvalue(z));"
   ]
  },
  {
   "cell_type": "code",
   "execution_count": 90,
   "metadata": {},
   "outputs": [],
   "source": [
    "k= (1-ρ)*n; #number of observations in training set\n",
    "λ= 1; #regularization constant\n",
    "\n",
    "Stable = Model(solver=GurobiSolver(TimeLimit=90));\n",
    "\n",
    "@variable(Stable, B[1:m]);\n",
    "@variable(Stable, θ);\n",
    "@variable(Stable, μ[1:n] >=0);\n",
    "\n",
    "@constraint(Stable, [i=1:n], θ+μ[i] >= Y[i]-sum(X[i,:].*B));\n",
    "@constraint(Stable, [i=1:n], θ+μ[i] >= -Y[i]+sum(X[i,:].*B));\n",
    "\n",
    "@objective(Stable, Min, k*θ+sum(μ[i] for i = 1:n)+λ*sum(B.^2));\n",
    "\n",
    "solve(Stable);"
   ]
  },
  {
   "cell_type": "code",
   "execution_count": 91,
   "metadata": {},
   "outputs": [],
   "source": [
    "Betas=getvalue(B);"
   ]
  },
  {
   "cell_type": "code",
   "execution_count": 92,
   "metadata": {},
   "outputs": [
    {
     "data": {
      "text/plain": [
       "22.22200390597508"
      ]
     },
     "execution_count": 92,
     "metadata": {},
     "output_type": "execute_result"
    }
   ],
   "source": [
    "MSE=mean((sum(Betas.*test_X[i,:]) .- test_Y[i]).^2 for i = 1:size(test_X,1))"
   ]
  },
  {
   "cell_type": "code",
   "execution_count": 63,
   "metadata": {},
   "outputs": [
    {
     "data": {
      "text/plain": [
       "#129 (generic function with 9 methods)"
      ]
     },
     "execution_count": 63,
     "metadata": {},
     "output_type": "execute_result"
    }
   ],
   "source": [
    "SVB = function(Data,λ0=0,granularity=1,runs=10,print_results=true,seed=rand(1:2019),percent_validation=0.25,Y_col_last=true,test_percentage=0.1)\n",
    "    \n",
    "    if print_results==true\n",
    "        print(\"Seed: \")\n",
    "        println(seed);\n",
    "        println();\n",
    "        println(\"-------------------------------------------------------------\")\n",
    "        println();\n",
    "    end\n",
    "    \n",
    "    function LASSO_Regression(X,Y,tun)\n",
    "        features=size(X,2);\n",
    "        obs=size(Y,1);\n",
    "        #M=10000;\n",
    "        Tun=tun;\n",
    "        LASSO = Model(solver=GurobiSolver(TimeLimit=30))\n",
    "        @variable(LASSO, Bn[1:features]);\n",
    "        #@variable(LASSO, z1[1:features], Bin);\n",
    "        #@constraint(LASSO, M*z1.>= -Bn);\n",
    "        #@constraint(LASSO, M*z1.>=  Bn);\n",
    "        #@constraint(LASSO, sum(z1) <= k );\n",
    "        #@objective(LASSO, Min, sum((Y-X*Bn).^2)+tun*(sum(z1)));\n",
    "        @objective(LASSO,Min,sum((Y-X*Bn).^2)+tun*sum(Bn.^2));\n",
    "        \n",
    "        redirect_stdout((()->solve(LASSO)),open(\"C:\\\\Users\\\\joeyc\\\\Documents\\\\gurobi_output\",\"w\"))\n",
    "        Bs=getvalue(Bn)\n",
    "        return Bs\n",
    "    end\n",
    "    \n",
    "    \n",
    "    \n",
    "    ρ=percent_validation;\n",
    "    \n",
    "    ##\n",
    "    ##\n",
    "    ##\n",
    "    ## Data Pre-Processing\n",
    "    ##\n",
    "    ##\n",
    "    ##\n",
    "    \n",
    "    Data=convert(Matrix,Data);\n",
    "    Random.seed!(seed);\n",
    "    Data=Data[shuffle(1:end),:];\n",
    "    \n",
    "    # Normalizing Data\n",
    "    for j in 1:size(Data,2)\n",
    "        mn = mean(Data[:,j])\n",
    "        sd = std(Data[:,j])\n",
    "        for i in 1:size(Data,1)\n",
    "            Data[i,j]=Data[i,j].-mn./sd\n",
    "        end\n",
    "    end\n",
    "    \n",
    "    test_obs_count=round(Int,test_percentage*size(Data,1));\n",
    "    Test_Data = Data[1:test_obs_count,:];\n",
    "    Data=Data[(test_obs_count+1):end,:];\n",
    "    \n",
    "    \n",
    "    \n",
    "    \n",
    "    n=size(Data,1);\n",
    "    m=size(Data,2);\n",
    "    \n",
    "    if (Y_col_last == true)\n",
    "        X=Data[:,1:(m-1)];\n",
    "        Y=Data[:,m];\n",
    "        test_X=Test_Data[:,1:(m-1)];\n",
    "        test_Y=Test_Data[:,m];\n",
    "    else\n",
    "        X=Data[:,2:(m)];\n",
    "        Y=Data[:,1];\n",
    "        test_X=Test_Data[:,2:(m)];\n",
    "        test_Y=Test_Data[:,1];\n",
    "    end\n",
    "    m=m-1;\n",
    "    #ρ=0.25;\n",
    "    \n",
    "    ##\n",
    "    ##\n",
    "    ##\n",
    "    ##\n",
    "    ## Balanced Regression\n",
    "    ##\n",
    "    ##\n",
    "    ##\n",
    "    ##\n",
    "    if print_results==true\n",
    "        println(\"Balanced Regression Results:\");\n",
    "        println();\n",
    "    end\n",
    "    \n",
    "    Balanced = Model(solver=GurobiSolver(TimeLimit=90));\n",
    "\n",
    "    @variable(Balanced, z[1:n], Bin);\n",
    "    @constraint(Balanced, sum(z[:])==floor(ρ*n));\n",
    "\n",
    "    @objective(Balanced, Min, sum(1/floor(ρ*n)*sum(z[i]*X[i,j] for i = 1:n) - \n",
    "        1/ceil((1-ρ)*n)*sum((1-z[i])*X[i,j] for i = 1:n) for j = 1:m)^2);\n",
    "\n",
    "    redirect_stdout((()->solve(Balanced)),open(\"C:\\\\Users\\\\joeyc\\\\Documents\\\\gurobi_output\",\"w\"));\n",
    "\n",
    "    ###\n",
    "    ###\n",
    "    ###\n",
    "    ###\n",
    "    ### Do Lasso stuff here\n",
    "    ###\n",
    "    ###\n",
    "    ###\n",
    "    ###\n",
    "    \n",
    "    Betas_Mat=zeros(runs,m);\n",
    "    λval=zeros(runs);\n",
    "    \n",
    "    Is_Validation=round.(Int,getvalue(z));\n",
    "    \n",
    "\n",
    "    for i = 1:runs\n",
    "        λ = (i-1)*granularity+λ0;\n",
    "        Betas_Mat[i,:]=LASSO_Regression(X[Is_Validation.==0,:],Y[Is_Validation.==0,:],λ);\n",
    "        λval[i]=λ;\n",
    "    end\n",
    "    \n",
    "    valid_X=X[Is_Validation.==1,:];\n",
    "    valid_Y=Y[Is_Validation.==1,:];\n",
    "    \n",
    "    MSE_Best_Balanced=mean((sum(Betas_Mat[1,:].*valid_X[i,:]) .- valid_Y[i]).^2 for i = 1:size(valid_X,1));\n",
    "    λbest=λval[1];\n",
    "    β_Best_Balanced=Betas_Mat[1,:];\n",
    "    \n",
    "    \n",
    "    for j = 1:runs\n",
    "        MSE = mean((sum(Betas_Mat[j,:].*valid_X[i,:]) .- valid_Y[i]).^2 for i = 1:size(valid_X,1));\n",
    "        if (MSE <= MSE_Best_Balanced)\n",
    "            MSE_Best_Balanced = MSE;\n",
    "            λbest=λval[j];\n",
    "            β_Best_Balanced=Betas_Mat[j,:];\n",
    "        end\n",
    "    end\n",
    "    \n",
    "    if print_results==true\n",
    "        println(\"Best Balanced Lambda:\");\n",
    "        println(λbest);\n",
    "        println();\n",
    "        println(\"Best Balanced Validation MSE: \");\n",
    "        println(MSE_Best_Balanced);\n",
    "        println();\n",
    "    end\n",
    "    \n",
    "    β_Best_Balanced=LASSO_Regression(X,Y,λbest);\n",
    "    \n",
    "    MSE_Best_Balanced=mean((sum(β_Best_Balanced.*test_X[i,:]) .- test_Y[i]).^2 for i = 1:size(test_X,1));\n",
    "    \n",
    "    if print_results==true\n",
    "        println(\"Test MSE for Balanced Regression:\")\n",
    "        println(MSE_Best_Balanced);\n",
    "        println();\n",
    "        println(\"-------------------------------------------------------------\")\n",
    "    end\n",
    "    \n",
    "    ###\n",
    "    ###\n",
    "    ###\n",
    "    ###\n",
    "    ### This is where Stable Regression starts\n",
    "    ###\n",
    "    ###\n",
    "    ###\n",
    "    ###\n",
    "    \n",
    "    train_obs_count= (1-ρ)*n; #number of observations in training set\n",
    "    λ= 1; #regularization constant\n",
    "    \n",
    "    Stable_Regression = function(X,Y,k,λ)\n",
    "        m=size(X,2);\n",
    "        n=size(Y,1);\n",
    "        \n",
    "        Stable = Model(solver=GurobiSolver(TimeLimit=90));\n",
    "\n",
    "        @variable(Stable, B[1:m]);\n",
    "        @variable(Stable, θ);\n",
    "        @variable(Stable, μ[1:n] >=0);\n",
    "\n",
    "        @constraint(Stable, [i=1:n], θ+μ[i] >= Y[i]-sum(X[i,:].*B));\n",
    "        @constraint(Stable, [i=1:n], θ+μ[i] >= -Y[i]+sum(X[i,:].*B));\n",
    "\n",
    "        @objective(Stable, Min, k*θ+sum(μ[i] for i = 1:n)+λ*sum(B.^2));\n",
    "        redirect_stdout((()->solve(Stable)),open(\"C:\\\\Users\\\\joeyc\\\\Documents\\\\gurobi_output\",\"w\"));\n",
    "        Betas_Stable=getvalue(B);\n",
    "        Is_Train=Int.(getvalue(μ).>=0.0001);\n",
    "        #Is_Train=getvalue(μ);\n",
    "        return Betas_Stable, Is_Train\n",
    "    end\n",
    "    \n",
    "    if print_results==true\n",
    "        println(\"Stable Regression Results:\");\n",
    "        println();\n",
    "    end\n",
    "    \n",
    "    Betas_Mat=zeros(runs,m);\n",
    "    λval=zeros(runs);\n",
    "    Is_Train_Mat=zeros(size(X,1),runs);\n",
    "\n",
    "    for i = 1:runs\n",
    "        λ = (i-1)*granularity+λ0;\n",
    "        res=Stable_Regression(X,Y,train_obs_count,λ);\n",
    "        Betas_Mat[i,:]=res[1];\n",
    "        Is_Train_Mat[:,i]=res[2];\n",
    "        λval[i]=λ;\n",
    "    end\n",
    "    \n",
    "    Stable_Valid_MSE=10000;\n",
    "    λbest_Stable=-100;\n",
    "    Best_Betas_Stable=zeros(size(Betas_Mat,2));\n",
    "    \n",
    "    for j = 1:runs\n",
    "        valid_X=X[Is_Train_Mat[:,j].==0,:];\n",
    "        valid_Y=Y[Is_Train_Mat[:,j].==0,:];\n",
    "        MSE = mean((sum(Betas_Mat[j,:].*valid_X[i,:]) .- valid_Y[i]).^2 for i = 1:size(valid_X,1));\n",
    "        \n",
    "        if (MSE <= Stable_Valid_MSE)\n",
    "            Stable_Valid_MSE=MSE;\n",
    "            λbest_Stable=λval[j];\n",
    "            Best_Betas_Stable=Betas_Mat[j,:];\n",
    "        end\n",
    "    end\n",
    "    \n",
    "    if print_results==true\n",
    "        println(\"Best Stable Lambda: \");\n",
    "        println(λbest_Stable);\n",
    "        println();\n",
    "        println(\"Best Stable Validation MSE: \");\n",
    "        println(Stable_Valid_MSE);\n",
    "        println();\n",
    "    end\n",
    "    \n",
    "    MSE_Best_Stable=mean((sum(Best_Betas_Stable.*test_X[i,:]) .- test_Y[i]).^2 for i = 1:size(test_X,1));\n",
    "    \n",
    "    if print_results==true\n",
    "        println(\"Test MSE for Stable Regression:\")\n",
    "        println(MSE_Best_Stable);\n",
    "        println();\n",
    "        println(\"-------------------------------------------------------------\")\n",
    "    end\n",
    "    \n",
    "    return MSE_Best_Balanced, MSE_Best_Stable\n",
    "end"
   ]
  },
  {
   "cell_type": "code",
   "execution_count": null,
   "metadata": {},
   "outputs": [],
   "source": [
    "wins=0\n",
    "for i in 1:1000     \n",
    "    (Balance), (Stable) =SVB(Data, 0, 0.05,3, false)\n",
    "    if (Balance<Stable)\n",
    "        wins=wins+1\n",
    "    end\n",
    "end"
   ]
  },
  {
   "cell_type": "code",
   "execution_count": null,
   "metadata": {},
   "outputs": [],
   "source": [
    "wins"
   ]
  }
 ],
 "metadata": {
  "kernelspec": {
   "display_name": "Julia 1.2.0",
   "language": "julia",
   "name": "julia-1.2"
  },
  "language_info": {
   "file_extension": ".jl",
   "mimetype": "application/julia",
   "name": "julia",
   "version": "1.2.0"
  }
 },
 "nbformat": 4,
 "nbformat_minor": 2
}
